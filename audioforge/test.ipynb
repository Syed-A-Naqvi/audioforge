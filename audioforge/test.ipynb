{
 "cells": [
  {
   "cell_type": "code",
   "execution_count": 10,
   "metadata": {},
   "outputs": [],
   "source": [
    "import librosa\n",
    "from typing import List, Union, Optional, Tuple, Set\n",
    "import re\n",
    "import os\n",
    "import glob\n",
    "import numpy as np\n",
    "import sys"
   ]
  },
  {
   "cell_type": "code",
   "execution_count": 1,
   "metadata": {},
   "outputs": [
    {
     "ename": "NameError",
     "evalue": "name 'Union' is not defined",
     "output_type": "error",
     "traceback": [
      "\u001b[0;31m---------------------------------------------------------------------------\u001b[0m",
      "\u001b[0;31mNameError\u001b[0m                                 Traceback (most recent call last)",
      "Cell \u001b[0;32mIn[1], line 13\u001b[0m\n\u001b[1;32m      1\u001b[0m \u001b[38;5;66;03m# the main audio class will create audio objects that will store numpy arrays and sample rates of one or more audio files\u001b[39;00m\n\u001b[1;32m      2\u001b[0m \u001b[38;5;66;03m# the user can:\u001b[39;00m\n\u001b[1;32m      3\u001b[0m     \u001b[38;5;66;03m# specify the path to one file\u001b[39;00m\n\u001b[0;32m   (...)\u001b[0m\n\u001b[1;32m     10\u001b[0m     \u001b[38;5;66;03m# provide a list of folder paths to ignore (everything ignored by default - overrides include)\u001b[39;00m\n\u001b[1;32m     11\u001b[0m     \u001b[38;5;66;03m# use regex to specify particular name patterns to ignore\u001b[39;00m\n\u001b[0;32m---> 13\u001b[0m \u001b[38;5;28;43;01mclass\u001b[39;49;00m\u001b[43m \u001b[49m\u001b[38;5;21;43;01mAudio\u001b[39;49;00m\u001b[43m:\u001b[49m\n\u001b[1;32m     15\u001b[0m \u001b[43m    \u001b[49m\u001b[38;5;28;43;01mdef\u001b[39;49;00m\u001b[43m \u001b[49m\u001b[38;5;21;43m__init__\u001b[39;49m\u001b[43m(\u001b[49m\u001b[38;5;28;43mself\u001b[39;49m\u001b[43m,\u001b[49m\u001b[43m \u001b[49m\u001b[43minclude\u001b[49m\u001b[43m:\u001b[49m\u001b[43m \u001b[49m\u001b[43mUnion\u001b[49m\u001b[43m[\u001b[49m\u001b[38;5;28;43mstr\u001b[39;49m\u001b[43m,\u001b[49m\u001b[43m \u001b[49m\u001b[43mTuple\u001b[49m\u001b[43m[\u001b[49m\u001b[38;5;28;43mstr\u001b[39;49m\u001b[43m,\u001b[49m\u001b[43m \u001b[49m\u001b[38;5;241;43m.\u001b[39;49m\u001b[38;5;241;43m.\u001b[39;49m\u001b[38;5;241;43m.\u001b[39;49m\u001b[43m]\u001b[49m\u001b[43m]\u001b[49m\u001b[43m,\u001b[49m\u001b[43m \u001b[49m\u001b[43mexclude\u001b[49m\u001b[43m:\u001b[49m\u001b[43m \u001b[49m\u001b[43mOptional\u001b[49m\u001b[43m[\u001b[49m\u001b[43mUnion\u001b[49m\u001b[43m[\u001b[49m\u001b[38;5;28;43mstr\u001b[39;49m\u001b[43m,\u001b[49m\u001b[43m \u001b[49m\u001b[43mTuple\u001b[49m\u001b[43m[\u001b[49m\u001b[38;5;28;43mstr\u001b[39;49m\u001b[43m,\u001b[49m\u001b[43m \u001b[49m\u001b[38;5;241;43m.\u001b[39;49m\u001b[38;5;241;43m.\u001b[39;49m\u001b[38;5;241;43m.\u001b[39;49m\u001b[43m]\u001b[49m\u001b[43m]\u001b[49m\u001b[43m]\u001b[49m\u001b[43m \u001b[49m\u001b[38;5;241;43m=\u001b[39;49m\u001b[43m \u001b[49m\u001b[38;5;28;43;01mNone\u001b[39;49;00m\u001b[43m,\u001b[49m\u001b[43m \u001b[49m\u001b[43mrecursive\u001b[49m\u001b[43m:\u001b[49m\u001b[43m \u001b[49m\u001b[38;5;28;43mbool\u001b[39;49m\u001b[43m \u001b[49m\u001b[38;5;241;43m=\u001b[39;49m\u001b[43m \u001b[49m\u001b[38;5;28;43;01mFalse\u001b[39;49;00m\u001b[43m)\u001b[49m\u001b[43m \u001b[49m\u001b[38;5;241;43m-\u001b[39;49m\u001b[38;5;241;43m>\u001b[39;49m\u001b[43m \u001b[49m\u001b[38;5;28;43;01mNone\u001b[39;49;00m\u001b[43m:\u001b[49m\n\u001b[1;32m     16\u001b[0m \u001b[43m        \u001b[49m\u001b[38;5;28;43mself\u001b[39;49m\u001b[38;5;241;43m.\u001b[39;49m\u001b[43msamples\u001b[49m\u001b[43m \u001b[49m\u001b[38;5;241;43m=\u001b[39;49m\u001b[43m \u001b[49m\u001b[43m{\u001b[49m\u001b[43m}\u001b[49m\n",
      "Cell \u001b[0;32mIn[1], line 15\u001b[0m, in \u001b[0;36mAudio\u001b[0;34m()\u001b[0m\n\u001b[1;32m     13\u001b[0m \u001b[38;5;28;01mclass\u001b[39;00m \u001b[38;5;21;01mAudio\u001b[39;00m:\n\u001b[0;32m---> 15\u001b[0m     \u001b[38;5;28;01mdef\u001b[39;00m \u001b[38;5;21m__init__\u001b[39m(\u001b[38;5;28mself\u001b[39m, include: \u001b[43mUnion\u001b[49m[\u001b[38;5;28mstr\u001b[39m, Tuple[\u001b[38;5;28mstr\u001b[39m, \u001b[38;5;241m.\u001b[39m\u001b[38;5;241m.\u001b[39m\u001b[38;5;241m.\u001b[39m]], exclude: Optional[Union[\u001b[38;5;28mstr\u001b[39m, Tuple[\u001b[38;5;28mstr\u001b[39m, \u001b[38;5;241m.\u001b[39m\u001b[38;5;241m.\u001b[39m\u001b[38;5;241m.\u001b[39m]]] \u001b[38;5;241m=\u001b[39m \u001b[38;5;28;01mNone\u001b[39;00m, recursive: \u001b[38;5;28mbool\u001b[39m \u001b[38;5;241m=\u001b[39m \u001b[38;5;28;01mFalse\u001b[39;00m) \u001b[38;5;241m-\u001b[39m\u001b[38;5;241m>\u001b[39m \u001b[38;5;28;01mNone\u001b[39;00m:\n\u001b[1;32m     16\u001b[0m         \u001b[38;5;28mself\u001b[39m\u001b[38;5;241m.\u001b[39msamples \u001b[38;5;241m=\u001b[39m {}\n\u001b[1;32m     17\u001b[0m         \u001b[38;5;28mself\u001b[39m\u001b[38;5;241m.\u001b[39mfetch(include, exclude, recursive)\n",
      "\u001b[0;31mNameError\u001b[0m: name 'Union' is not defined"
     ]
    }
   ],
   "source": [
    "# the main audio class will create audio objects that will store numpy arrays and sample rates of one or more audio files\n",
    "# the user can:\n",
    "    # specify the path to one file\n",
    "    # specify the path to a folder containing multiple sound files\n",
    "    # specify a list of paths to multiple individual files or folders containing files\n",
    "        # everything in a folder will be included by default\n",
    "        # use a regex string to select specific files in a folder\n",
    "\n",
    "    # provide a list of files to ignore (none by default)\n",
    "    # provide a list of folder paths to ignore (everything ignored by default - overrides include)\n",
    "    # use regex to specify particular name patterns to ignore\n",
    "\n",
    "class Audio:\n",
    "    \n",
    "    def __init__(self, include: Union[str, Tuple[str, ...]], exclude: Optional[Union[str, Tuple[str, ...]]] = None, recursive: bool = False) -> None:\n",
    "        self.samples = {}\n",
    "        self.fetch(include, exclude, recursive)\n",
    "    \n",
    "    def fetch(self, include: Union[str, Tuple[str, ...]], exclude: Optional[Union[str, Tuple[str, ...]]] = None, recursive: bool = False, append=False) -> bool:\n",
    "        \"\"\"\n",
    "        Fetch files from specified directories with include and exclude patterns.\n",
    "\n",
    "        :param include: A string or tuple of strings specifying the directories or patterns to include.\n",
    "        :param exclude: A string or set of strings specifying the patterns to exclude.\n",
    "        :param recursive: Boolean indicating whether to search directories recursively.\n",
    "        :return: List of file paths that match the include patterns and do not match the exclude patterns.\n",
    "        \"\"\"\n",
    "        if isinstance(include, str):\n",
    "            include = (include,)\n",
    "            \n",
    "        if exclude is None:\n",
    "            exclude = ()\n",
    "        elif isinstance(exclude, str):\n",
    "            exclude = (exclude,)\n",
    "\n",
    "        audio_files = []\n",
    "        \n",
    "        for path in include:\n",
    "            if os.path.isdir(path):\n",
    "                audio_files.extend(self._fetch_from_directory(path, exclude, recursive))\n",
    "            elif os.path.isfile(path):\n",
    "                if not self._is_excluded(path, exclude):\n",
    "                    audio_files.append(path)\n",
    "            else:\n",
    "                print(f\"{path} does not exist or is not a regular file/directory.\")\n",
    "        \n",
    "        # reseting the sample dictionary with freshly loaded data\n",
    "        if(not append):\n",
    "            self.samples.clear()\n",
    "            \n",
    "        for f in self.fetch(include, exclude, recursive):\n",
    "            if(append and f in self.samples.keys()):\n",
    "                continue\n",
    "            try:\n",
    "                sample, sr = librosa.load(f)\n",
    "                self.samples[f] = (sample, sr)\n",
    "            except Exception as e:\n",
    "                print(f\"Error loading {f}: {e}\")\n",
    "                return False\n",
    "        \n",
    "        return True\n",
    "    \n",
    "    def _fetch_from_directory(self, directory: str, exclude: Tuple[str, ...], recursive: bool) -> List[str]:\n",
    "        \"\"\"\n",
    "        Fetch files from a directory based on include and exclude patterns.\n",
    "\n",
    "        :param directory: The directory to search.\n",
    "        :param exclude: Set of patterns to exclude.\n",
    "        :param recursive: Boolean indicating whether to search directories recursively.\n",
    "        :return: List of file paths.\n",
    "        \"\"\"\n",
    "        directory = directory if directory.endswith('/') else (directory + '/')\n",
    "        patterns = [\"*.wav\", \"*.mp3\", \"*.flac\", \"*.ogg\", \"*.m4a\", \"*.aac\", \"*.wma\", \"*.aiff\", \"*.au\", \"*.amr\",]  # Add your patterns here\n",
    "        files = []\n",
    "        \n",
    "        for pattern in patterns:\n",
    "            if recursive:\n",
    "                files.extend(glob.glob(directory + '**/' + pattern, recursive=True))\n",
    "            else:\n",
    "                files.extend(glob.glob(directory + pattern))\n",
    "        \n",
    "        return [f for f in files if not self._is_excluded(f, exclude)]\n",
    "    \n",
    "    def _is_excluded(self, file_path: str, exclude: Tuple[str, ...]) -> bool:\n",
    "        \"\"\"\n",
    "        Check if a file path matches any of the exclude patterns.\n",
    "\n",
    "        :param file_path: The file path to check.\n",
    "        :param exclude: Set of patterns to exclude.\n",
    "        :return: Boolean indicating whether the file path is excluded.\n",
    "        \"\"\"\n",
    "        # use regex or regular wildcard expressions for better exclusion matching\n",
    "        for e in exclude:\n",
    "            pattern = re.compile(e)\n",
    "            if(pattern.search(file_path)):\n",
    "                return True\n",
    "        return False"
   ]
  },
  {
   "cell_type": "code",
   "execution_count": 6,
   "metadata": {},
   "outputs": [
    {
     "data": {
      "text/plain": [
       "False"
      ]
     },
     "execution_count": 6,
     "metadata": {},
     "output_type": "execute_result"
    }
   ],
   "source": [
    "audio = Audio(\"./RAVDESS/Actor_14\", \"^\\d{2}-\\d{2}\")"
   ]
  }
 ],
 "metadata": {
  "kernelspec": {
   "display_name": "ml",
   "language": "python",
   "name": "python3"
  },
  "language_info": {
   "codemirror_mode": {
    "name": "ipython",
    "version": 3
   },
   "file_extension": ".py",
   "mimetype": "text/x-python",
   "name": "python",
   "nbconvert_exporter": "python",
   "pygments_lexer": "ipython3",
   "version": "3.12.4"
  }
 },
 "nbformat": 4,
 "nbformat_minor": 2
}
