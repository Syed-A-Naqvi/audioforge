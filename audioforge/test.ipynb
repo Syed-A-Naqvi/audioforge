{
 "cells": [
  {
   "cell_type": "code",
   "execution_count": 44,
   "metadata": {},
   "outputs": [],
   "source": [
    "import librosa\n",
    "from typing import List, Union, Optional, Tuple, Set\n",
    "import re\n",
    "import os\n",
    "import glob\n",
    "import numpy as np\n",
    "import sys"
   ]
  },
  {
   "cell_type": "code",
   "execution_count": null,
   "metadata": {},
   "outputs": [],
   "source": [
    "# the main audio class will create audio objects that will store numpy arrays and sample rates of one or more audio files\n",
    "# the user can:\n",
    "    # specify the path to one file\n",
    "    # specify the path to a folder containing multiple sound files\n",
    "    # specify a list of paths to multiple individual files or folders containing files\n",
    "        # everything in a folder will be included by default\n",
    "        # use a regex string to select specific files in a folder\n",
    "\n",
    "    # provide a list of files to ignore (none by default)\n",
    "    # provide a list of folder paths to ignore (everything ignored by default - overrides include)\n",
    "    # use regex to specify particular name patterns to ignore\n",
    "\n",
    "class Audio:\n",
    "    \n",
    "    def __init__(self, include, exclude=None) -> None:\n",
    "        self.samples = {}\n",
    "    \n",
    "    def fetch(self, include: Union[str, Tuple[str, ...]], exclude: Optional[Union[str, Set[str]]] = None, recursive: bool = False) -> List[str]:\n",
    "        \"\"\"\n",
    "        Fetch files from specified directories with include and exclude patterns.\n",
    "\n",
    "        :param include: A string or tuple of strings specifying the directories or patterns to include.\n",
    "        :param exclude: A string or set of strings specifying the patterns to exclude.\n",
    "        :param recursive: Boolean indicating whether to search directories recursively.\n",
    "        :return: List of file paths that match the include patterns and do not match the exclude patterns.\n",
    "        \"\"\"\n",
    "        if isinstance(include, str):\n",
    "            include = (include,)\n",
    "            \n",
    "        if exclude is None:\n",
    "            exclude = set()\n",
    "        elif isinstance(exclude, str):\n",
    "            exclude = {exclude}\n",
    "        \n",
    "        audio_files = []\n",
    "        \n",
    "        for path in include:\n",
    "            if os.path.isdir(path):\n",
    "                audio_files.extend(self._fetch_from_directory(path, exclude, recursive))\n",
    "            elif os.path.isfile(path):\n",
    "                if not self._is_excluded(path, exclude):\n",
    "                    audio_files.append(path)\n",
    "            else:\n",
    "                print(f\"{path} does not exist or is not a regular file/directory\")\n",
    "        \n",
    "        return audio_files\n",
    "    \n",
    "    def _fetch_from_directory(self, directory: str, exclude: Set[str], recursive: bool) -> List[str]:\n",
    "        \"\"\"\n",
    "        Fetch files from a directory based on include and exclude patterns.\n",
    "\n",
    "        :param directory: The directory to search.\n",
    "        :param exclude: Set of patterns to exclude.\n",
    "        :param recursive: Boolean indicating whether to search directories recursively.\n",
    "        :return: List of file paths.\n",
    "        \"\"\"\n",
    "        directory = directory if directory.endswith('/') else (directory + '/')\n",
    "        patterns = [\"*.wav\", \"*.mp3\", \"file*_before.*\"]  # Add your patterns here\n",
    "        files = []\n",
    "        \n",
    "        for pattern in patterns:\n",
    "            if recursive:\n",
    "                files.extend(glob.glob(directory + '**/' + pattern, recursive=True))\n",
    "            else:\n",
    "                files.extend(glob.glob(directory + pattern))\n",
    "        \n",
    "        return [f for f in files if not self._is_excluded(f, exclude)]\n",
    "    \n",
    "    def _is_excluded(self, file_path: str, exclude: Set[str]) -> bool:\n",
    "        \"\"\"\n",
    "        Check if a file path matches any of the exclude patterns.\n",
    "\n",
    "        :param file_path: The file path to check.\n",
    "        :param exclude: Set of patterns to exclude.\n",
    "        :return: Boolean indicating whether the file path is excluded.\n",
    "        \"\"\"\n",
    "        return any(glob.fnmatch.fnmatch(file_path, pattern) for pattern in exclude)"
   ]
  },
  {
   "cell_type": "code",
   "execution_count": 43,
   "metadata": {},
   "outputs": [
    {
     "data": {
      "text/plain": [
       "False"
      ]
     },
     "execution_count": 43,
     "metadata": {},
     "output_type": "execute_result"
    }
   ],
   "source": [
    "os.path.isfile(\"./testfolder/*\")\n"
   ]
  },
  {
   "cell_type": "code",
   "execution_count": 30,
   "metadata": {},
   "outputs": [
    {
     "name": "stdout",
     "output_type": "stream",
     "text": [
      "28\n",
      "64\n"
     ]
    }
   ],
   "source": [
    "tup = (1)\n",
    "ls = [1]\n",
    "\n",
    "print(sys.getsizeof(tup))\n",
    "print(sys.getsizeof(ls))"
   ]
  }
 ],
 "metadata": {
  "kernelspec": {
   "display_name": "ml",
   "language": "python",
   "name": "python3"
  },
  "language_info": {
   "codemirror_mode": {
    "name": "ipython",
    "version": 3
   },
   "file_extension": ".py",
   "mimetype": "text/x-python",
   "name": "python",
   "nbconvert_exporter": "python",
   "pygments_lexer": "ipython3",
   "version": "3.12.4"
  }
 },
 "nbformat": 4,
 "nbformat_minor": 2
}
